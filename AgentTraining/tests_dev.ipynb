{
 "cells": [
  {
   "cell_type": "code",
   "execution_count": 1,
   "metadata": {},
   "outputs": [],
   "source": [
    "import warnings \n",
    "\n",
    "warnings.filterwarnings('ignore')\n",
    "import stable_baselines\n",
    "import gym\n",
    "import HandMakerEnv\n",
    "\n",
    "# verify training is possible\n",
    "from stable_baselines.common.policies import MlpPolicy\n",
    "from stable_baselines.common.vec_env import DummyVecEnv\n",
    "from stable_baselines.common.env_checker import check_env\n",
    "from stable_baselines import PPO2\n",
    "import time"
   ]
  },
  {
   "cell_type": "code",
   "execution_count": 6,
   "metadata": {},
   "outputs": [
    {
     "name": "stdout",
     "output_type": "stream",
     "text": [
      "Wrapping the env in a DummyVecEnv.\n",
      "Tests passed\n"
     ]
    }
   ],
   "source": [
    "def test_train():\n",
    "    env = gym.make('HandMakerEnv-v1')\n",
    "    check_env(env)\n",
    "    \n",
    "    \n",
    "    # this is a test\n",
    "    # model = PPO2('MlpPolicy', 'HandMakerEnv-v1').learn(10)\n",
    "\n",
    "    # this is a more verbose test\n",
    "    # Optional: PPO2 requires a vectorized environment to run\n",
    "    # the env is now wrapped automatically when passing it to the constructor\n",
    "    # env = DummyVecEnv([lambda: env])\n",
    "    env = gym.make('HandMakerEnv-v1')\n",
    "\n",
    "    model = PPO2(MlpPolicy, env, verbose=1)\n",
    "    model.learn(total_timesteps=10)\n",
    "\n",
    "    obs = env.reset()\n",
    "    pred = model.predict(obs)\n",
    "    assert len(pred[0]) == 13\n",
    "    print(\"Tests passed\")\n",
    "    \n",
    "test_train()"
   ]
  },
  {
   "cell_type": "code",
   "execution_count": null,
   "metadata": {},
   "outputs": [],
   "source": []
  }
 ],
 "metadata": {
  "kernelspec": {
   "display_name": "Python 3",
   "language": "python",
   "name": "python3"
  },
  "language_info": {
   "codemirror_mode": {
    "name": "ipython",
    "version": 3
   },
   "file_extension": ".py",
   "mimetype": "text/x-python",
   "name": "python",
   "nbconvert_exporter": "python",
   "pygments_lexer": "ipython3",
   "version": "3.6.1"
  }
 },
 "nbformat": 4,
 "nbformat_minor": 2
}
