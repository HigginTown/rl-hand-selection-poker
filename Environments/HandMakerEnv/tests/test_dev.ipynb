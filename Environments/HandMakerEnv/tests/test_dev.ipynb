{
 "cells": [
  {
   "cell_type": "code",
   "execution_count": 1,
   "metadata": {},
   "outputs": [],
   "source": [
    "import gym\n",
    "import HandMakerEnv\n",
    "env = gym.make('HandMakerEnv-v1')"
   ]
  },
  {
   "cell_type": "code",
   "execution_count": 2,
   "metadata": {},
   "outputs": [
    {
     "name": "stdout",
     "output_type": "stream",
     "text": [
      "CPU times: user 330 ms, sys: 6.36 ms, total: 336 ms\n",
      "Wall time: 330 ms\n"
     ]
    }
   ],
   "source": [
    "# run some tests \n",
    "\n",
    "# actions\n",
    "action = env.action_space.sample()\n",
    "assert len(action) == 13 # ensure action is selecting from 13 cards\n",
    "for i in range(len(action)): assert action[i] < 2  # all values are 1 or 0\n",
    "    \n",
    "# observations\n",
    "obs = env.observation_space.sample()\n",
    "assert len(obs) == 13 * 32 # 32 bits and 13 cards each \n",
    "for i in range(len(obs)): assert obs[i] < 2 # all values are 1 or 0\n",
    "    \n",
    "# initial observations\n",
    "initial_obs = env._get_obs()\n",
    "assert len(initial_obs) == 13 * 32 # 32 bits and 13 cards each \n",
    "for i in range(len(initial_obs)): assert initial_obs[i] < 2 # all values are 1 or 0\n",
    "\n",
    "# the initial number of cards \n",
    "assert len(env.card_ints) == 13\n",
    "for i in range(len(env.card_strings)): \n",
    "    assert type(env.card_strings[i]) == str\n",
    "    \n",
    "# stepping through the environment \n",
    "def test_step():\n",
    "    # get an action\n",
    "    action = env.action_space.sample()\n",
    "    \n",
    "    # take a step with it \n",
    "    obs, r, done, _ = env.step(action)\n",
    "    \n",
    "    # do some checks\n",
    "    # obs \n",
    "    assert len(obs) == 13 * 32 # 32 bits and 13 cards each \n",
    "    for i in range(len(obs)): assert obs[i] < 2 # all values are 1 or 0\n",
    "        \n",
    "    # r\n",
    "    assert r>=-1 and r<= 1\n",
    "    \n",
    "    # done\n",
    "    assert done == True\n",
    "    \n",
    "    return r\n",
    "\n",
    "def test_two():\n",
    "    action = env.action_space.sample()\n",
    "    \n",
    "    # take a step with it \n",
    "    obs, r, done, _ = env.step(action)\n",
    "    \n",
    "    # reset\n",
    "    env.reset()\n",
    "    \n",
    "    # try again\n",
    "    obs_2, r_2, done_2, _ = env.step(action)\n",
    "    \n",
    "    return 0\n",
    "    \n",
    "\n",
    "    \n",
    "    \n",
    "test_two()\n",
    "    \n",
    "# timing tests for 1000 random steps\n",
    "%time s = sum([test_step() for _ in range(1000)])\n",
    "\n",
    "    \n",
    "assert len(env.reset()) == 416"
   ]
  },
  {
   "cell_type": "code",
   "execution_count": null,
   "metadata": {},
   "outputs": [],
   "source": []
  }
 ],
 "metadata": {
  "kernelspec": {
   "display_name": "Python 3",
   "language": "python",
   "name": "python3"
  },
  "language_info": {
   "codemirror_mode": {
    "name": "ipython",
    "version": 3
   },
   "file_extension": ".py",
   "mimetype": "text/x-python",
   "name": "python",
   "nbconvert_exporter": "python",
   "pygments_lexer": "ipython3",
   "version": "3.6.1"
  }
 },
 "nbformat": 4,
 "nbformat_minor": 2
}
