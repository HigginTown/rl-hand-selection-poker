{
 "cells": [
  {
   "cell_type": "code",
   "execution_count": 5,
   "metadata": {},
   "outputs": [
    {
     "name": "stdout",
     "output_type": "stream",
     "text": [
      "Overwriting HandMakerEnv.py\n"
     ]
    }
   ],
   "source": [
    "# %%writefile HandMakerEnv.py\n",
    "import treys\n",
    "import gym \n",
    "from gym import spaces\n",
    "from itertools import compress\n",
    "\n",
    "class HandMaker(gym.Env):\n",
    "    def __init__(self):\n",
    "        self.evaluator = treys.evaluator.Evaluator()\n",
    "        self.deck = treys.deck.Deck()\n",
    "        self.cards = self.deck.draw(13)\n",
    "        self.done = False\n",
    "        self.reward_range = (0,1)\n",
    "        self.action_space = gym.spaces.multi_binary.MultiBinary(13) # select from 13 cards\n",
    "        self.observation_space = gym.spaces.multi_binary.MultiBinary(416) # 32 bits * 13 cards\n",
    "\n",
    "    def _get_obs(self):\n",
    "        # the observation is the encoded representation of the cards\n",
    "        # get 13 cards and convert them to binary strings\n",
    "     \n",
    "        return [item for sublist in [[int(i) for i in y] for y in [f'{a:032b}' for a in self.cards]] for item in sublist]\n",
    "    \n",
    "    def _get_reward(self, five_cards):\n",
    "        \"\"\"Return 1 minus the rank class percentage for the five card hand\n",
    "        The worst hand has a value of 1, while a Royal Flush has a value of 0\n",
    "        If we return 1 - this value, we return a reward in [0,1] where the \n",
    "        higher number is a better reward.\n",
    "        \"\"\"\n",
    "        \n",
    "        return 1-self.evaluator.get_five_card_rank_percentage(self.evaluator._five(five_cards))\n",
    "    \n",
    "    def step(self, action):\n",
    "        # set the state of the game to done\n",
    "        self.done = True \n",
    "        \n",
    "        # if the action is invalid, get a negative reward and exit\n",
    "        if sum(action) != 5: return (self._get_obs(), -1, self.done, {})\n",
    "        \n",
    "        # otherwise, we get the subset of cards based on the valid action\n",
    "        # we need the 5 cards selected from the 13 for evaluation\n",
    "        self.selected_cards = list(compress(self.cards, action))\n",
    "        self.reward = self._get_reward(self.selected_cards)\n",
    "        \n",
    "        \n",
    "        return (self._get_obs(), self.reward, self.done, {})\n",
    "        \n",
    "        \n",
    "    def reset(self):\n",
    "        self.deck = treys.deck.Deck()\n",
    "        self.cards = self.deck.draw(13)\n",
    "        self.done = False\n",
    "        \n",
    "    def render(self):\n",
    "        \n",
    "        \n"
   ]
  },
  {
   "cell_type": "code",
   "execution_count": 13,
   "metadata": {},
   "outputs": [],
   "source": []
  },
  {
   "cell_type": "code",
   "execution_count": null,
   "metadata": {},
   "outputs": [],
   "source": []
  }
 ],
 "metadata": {
  "kernelspec": {
   "display_name": "Python 3",
   "language": "python",
   "name": "python3"
  },
  "language_info": {
   "codemirror_mode": {
    "name": "ipython",
    "version": 3
   },
   "file_extension": ".py",
   "mimetype": "text/x-python",
   "name": "python",
   "nbconvert_exporter": "python",
   "pygments_lexer": "ipython3",
   "version": "3.6.1"
  }
 },
 "nbformat": 4,
 "nbformat_minor": 2
}
