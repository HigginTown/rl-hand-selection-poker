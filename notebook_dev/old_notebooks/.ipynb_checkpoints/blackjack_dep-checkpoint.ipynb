{
 "cells": [
  {
   "cell_type": "markdown",
   "metadata": {},
   "source": [
    "# Q Learning Blackjack with Gym "
   ]
  },
  {
   "cell_type": "code",
   "execution_count": 1,
   "metadata": {
    "collapsed": true
   },
   "outputs": [],
   "source": [
    "# Q Learning for Blackjack\n",
    "\n",
    "import gym \n",
    "import numpy as np\n",
    "import pandas as pd \n",
    "import matplotlib.pyplot as plt\n",
    "\n",
    "%matplotlib inline \n"
   ]
  },
  {
   "cell_type": "code",
   "execution_count": 2,
   "metadata": {
    "collapsed": true
   },
   "outputs": [],
   "source": [
    "# Let's take a look at the blackjack environment \n",
    "\n",
    "def initialize_environment_and_table():\n",
    "    print(\"Initializing Blackjack\")\n",
    "\n",
    "\n",
    "    env = gym.make('Blackjack-v0')\n",
    "    starting_state = env.reset()\n",
    "    \n",
    "       \n",
    "    print(\"Observation space: \", env.observation_space)\n",
    "    print(\"Action space: \", env.action_space)\n",
    "    \n",
    "    \n",
    "    # build the Q table \n",
    "    # enumerate all the states \n",
    "    \n",
    "    all_states = []\n",
    "    for p in range(2,33):\n",
    "        for d in range(12):\n",
    "            for a in [False,True]:\n",
    "                all_states.append((p,d,a))\n",
    "                \n",
    "    # Fill the table with random data in the interval [0,1]\n",
    "    Q = pd.DataFrame(columns=[\"Stand\", \"Hit\"], index = all_states, data=np.random.random(size=(744,2)))\n",
    "    \n",
    "    print(\"Sample of initialized Q table\")\n",
    "    print(Q.sample(5))\n",
    "    \n",
    "    \n",
    "    # return the environment, the starting state, and the Q table\n",
    "    \n",
    "    return env, starting_state, Q\n"
   ]
  },
  {
   "cell_type": "code",
   "execution_count": 198,
   "metadata": {
    "collapsed": true
   },
   "outputs": [],
   "source": [
    "# the RL routine \n",
    "# Start a new environment \n",
    "# Play the game \n",
    "# Get the reward \n",
    "# Update the estimate \n",
    "\n",
    "\n",
    "def play_game():\n",
    "\n",
    "    # define the players move     \n",
    "        \n",
    "    def find_player_move(state):\n",
    "        # look up the value\n",
    "    \n",
    "        Q_vals = Q.loc[[state]].values\n",
    "\n",
    "        # choose the action that has the highest value \n",
    "        # first find the value \n",
    "        best_action = np.argmax(Q_vals)\n",
    "\n",
    "        # this will return either a '0' for STAND or '1' for HIT\n",
    "        # take the action in the space  \n",
    "        return best_action\n",
    "    \n",
    "    \n",
    "    def game_loop():\n",
    "        \n",
    "        # intialize the environment\n",
    "        \n",
    "        env, starting_state, Q = initialize_environment_and_table()\n",
    "        print(starting_state)\n",
    "        \n",
    "        def step_one():\n",
    "        \n",
    "            action = find_player_move(starting_state)\n",
    "            state = env.step(action)\n",
    "            ended = state[2]\n",
    "            \n",
    "        \n",
    "\n",
    "        # check if the game is over\n",
    "         while [2] == False:\n",
    "                state\n",
    "                \n",
    "        \n",
    "        \n",
    "        \n",
    "        "
   ]
  },
  {
   "cell_type": "code",
   "execution_count": 199,
   "metadata": {},
   "outputs": [
    {
     "name": "stdout",
     "output_type": "stream",
     "text": [
      "Initializing Blackjack\n",
      "Observation space:  Tuple(Discrete(32), Discrete(11), Discrete(2))\n",
      "Action space:  Discrete(2)\n",
      "Sample of initialized Q table\n",
      "                    Stand       Hit\n",
      "(7, 5, True)     0.548327  0.947195\n",
      "(23, 9, False)   0.506160  0.610496\n",
      "(30, 11, False)  0.400615  0.536984\n",
      "(10, 9, True)    0.326746  0.700872\n",
      "(9, 6, False)    0.221116  0.478187\n",
      "(13, 2, False)\n"
     ]
    },
    {
     "data": {
      "text/plain": [
       "(1, ((18, 2, False), 0, False, {}))"
      ]
     },
     "execution_count": 199,
     "metadata": {},
     "output_type": "execute_result"
    }
   ],
   "source": [
    "d = play_game()\n",
    "d"
   ]
  },
  {
   "cell_type": "code",
   "execution_count": 114,
   "metadata": {
    "collapsed": true
   },
   "outputs": [],
   "source": [
    "f = Q.loc[[(2, 0, False)]]"
   ]
  },
  {
   "cell_type": "code",
   "execution_count": 121,
   "metadata": {},
   "outputs": [
    {
     "data": {
      "text/plain": [
       "Hit      (2, 0, False)\n",
       "Stand    (2, 0, False)\n",
       "dtype: object"
      ]
     },
     "execution_count": 121,
     "metadata": {},
     "output_type": "execute_result"
    }
   ],
   "source": [
    "f.idxmax()"
   ]
  },
  {
   "cell_type": "code",
   "execution_count": 133,
   "metadata": {},
   "outputs": [
    {
     "data": {
      "text/plain": [
       "1"
      ]
     },
     "execution_count": 133,
     "metadata": {},
     "output_type": "execute_result"
    }
   ],
   "source": [
    "np.argmax(f.values)"
   ]
  },
  {
   "cell_type": "code",
   "execution_count": 145,
   "metadata": {},
   "outputs": [
    {
     "data": {
      "text/plain": [
       "(8, 10, False)"
      ]
     },
     "execution_count": 145,
     "metadata": {},
     "output_type": "execute_result"
    }
   ],
   "source": [
    "env.reset()"
   ]
  },
  {
   "cell_type": "code",
   "execution_count": 147,
   "metadata": {},
   "outputs": [
    {
     "data": {
      "text/plain": [
       "((28, 10, False), -1, True, {})"
      ]
     },
     "execution_count": 147,
     "metadata": {},
     "output_type": "execute_result"
    }
   ],
   "source": [
    "env.step(1)"
   ]
  },
  {
   "cell_type": "code",
   "execution_count": 151,
   "metadata": {},
   "outputs": [
    {
     "data": {
      "text/plain": [
       "\u001b[0;31mSignature:\u001b[0m \u001b[0menv\u001b[0m\u001b[0;34m.\u001b[0m\u001b[0mstep\u001b[0m\u001b[0;34m(\u001b[0m\u001b[0maction\u001b[0m\u001b[0;34m)\u001b[0m\u001b[0;34m\u001b[0m\u001b[0m\n",
       "\u001b[0;31mSource:\u001b[0m   \n",
       "    \u001b[0;32mdef\u001b[0m \u001b[0mstep\u001b[0m\u001b[0;34m(\u001b[0m\u001b[0mself\u001b[0m\u001b[0;34m,\u001b[0m \u001b[0maction\u001b[0m\u001b[0;34m)\u001b[0m\u001b[0;34m:\u001b[0m\u001b[0;34m\u001b[0m\n",
       "\u001b[0;34m\u001b[0m        \u001b[0;34m\"\"\"Run one timestep of the environment's dynamics. When end of\u001b[0m\n",
       "\u001b[0;34m        episode is reached, you are responsible for calling `reset()`\u001b[0m\n",
       "\u001b[0;34m        to reset this environment's state.\u001b[0m\n",
       "\u001b[0;34m\u001b[0m\n",
       "\u001b[0;34m        Accepts an action and returns a tuple (observation, reward, done, info).\u001b[0m\n",
       "\u001b[0;34m\u001b[0m\n",
       "\u001b[0;34m        Args:\u001b[0m\n",
       "\u001b[0;34m            action (object): an action provided by the environment\u001b[0m\n",
       "\u001b[0;34m\u001b[0m\n",
       "\u001b[0;34m        Returns:\u001b[0m\n",
       "\u001b[0;34m            observation (object): agent's observation of the current environment\u001b[0m\n",
       "\u001b[0;34m            reward (float) : amount of reward returned after previous action\u001b[0m\n",
       "\u001b[0;34m            done (boolean): whether the episode has ended, in which case further step() calls will return undefined results\u001b[0m\n",
       "\u001b[0;34m            info (dict): contains auxiliary diagnostic information (helpful for debugging, and sometimes learning)\u001b[0m\n",
       "\u001b[0;34m        \"\"\"\u001b[0m\u001b[0;34m\u001b[0m\n",
       "\u001b[0;34m\u001b[0m        \u001b[0;32mreturn\u001b[0m \u001b[0mself\u001b[0m\u001b[0;34m.\u001b[0m\u001b[0m_step\u001b[0m\u001b[0;34m(\u001b[0m\u001b[0maction\u001b[0m\u001b[0;34m)\u001b[0m\u001b[0;34m\u001b[0m\u001b[0m\n",
       "\u001b[0;31mFile:\u001b[0m      ~/anaconda/lib/python3.6/site-packages/gym/core.py\n",
       "\u001b[0;31mType:\u001b[0m      method\n"
      ]
     },
     "metadata": {},
     "output_type": "display_data"
    }
   ],
   "source": [
    "env.step??"
   ]
  },
  {
   "cell_type": "code",
   "execution_count": 205,
   "metadata": {},
   "outputs": [
    {
     "ename": "TypeError",
     "evalue": "step() missing 1 required positional argument: 'action'",
     "output_type": "error",
     "traceback": [
      "\u001b[0;31m---------------------------------------------------------------------------\u001b[0m",
      "\u001b[0;31mTypeError\u001b[0m                                 Traceback (most recent call last)",
      "\u001b[0;32m<ipython-input-205-ce2567cfde4b>\u001b[0m in \u001b[0;36m<module>\u001b[0;34m()\u001b[0m\n\u001b[0;32m----> 1\u001b[0;31m \u001b[0menv\u001b[0m\u001b[0;34m.\u001b[0m\u001b[0mstep\u001b[0m\u001b[0;34m(\u001b[0m\u001b[0;34m)\u001b[0m\u001b[0;34m\u001b[0m\u001b[0m\n\u001b[0m",
      "\u001b[0;31mTypeError\u001b[0m: step() missing 1 required positional argument: 'action'"
     ]
    }
   ],
   "source": [
    "env.step"
   ]
  },
  {
   "cell_type": "code",
   "execution_count": null,
   "metadata": {
    "collapsed": true
   },
   "outputs": [],
   "source": []
  }
 ],
 "metadata": {
  "kernelspec": {
   "display_name": "Python 3",
   "language": "python",
   "name": "python3"
  },
  "language_info": {
   "codemirror_mode": {
    "name": "ipython",
    "version": 3
   },
   "file_extension": ".py",
   "mimetype": "text/x-python",
   "name": "python",
   "nbconvert_exporter": "python",
   "pygments_lexer": "ipython3",
   "version": "3.6.1"
  }
 },
 "nbformat": 4,
 "nbformat_minor": 2
}
